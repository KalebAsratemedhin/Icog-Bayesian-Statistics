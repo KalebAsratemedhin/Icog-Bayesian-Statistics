{
 "cells": [
  {
   "cell_type": "markdown",
   "metadata": {},
   "source": [
    "# Recap: Bayesian Statistics\n",
    "Bayesian statistics is an approach to statistical inference that applies Bayes' Theorem to update the probability estimate for a hypothesis as more evidence or data becomes available. Unlike frequentist statistics, which only considers the data at hand, Bayesian statistics incorporates prior knowledge or beliefs about the world and updates these beliefs as new data is observed."
   ]
  },
  {
   "cell_type": "code",
   "execution_count": 51,
   "metadata": {},
   "outputs": [
    {
     "name": "stderr",
     "output_type": "stream",
     "text": [
      "[nltk_data] Downloading package punkt_tab to /home/kaleb/nltk_data...\n",
      "[nltk_data]   Package punkt_tab is already up-to-date!\n",
      "[nltk_data] Downloading package stopwords to /home/kaleb/nltk_data...\n",
      "[nltk_data]   Package stopwords is already up-to-date!\n"
     ]
    },
    {
     "data": {
      "text/plain": [
       "True"
      ]
     },
     "execution_count": 51,
     "metadata": {},
     "output_type": "execute_result"
    }
   ],
   "source": [
    "\n",
    "import os\n",
    "import nltk\n",
    "import math\n",
    "import string\n",
    "import zipfile\n",
    "import requests\n",
    "import numpy as np\n",
    "import pandas as pd\n",
    "import seaborn as sns\n",
    "import matplotlib.pyplot as plt\n",
    "from nltk.corpus import stopwords\n",
    "from collections import defaultdict\n",
    "from nltk.tokenize import word_tokenize\n",
    "from sklearn.model_selection import train_test_split\n",
    "from sklearn.feature_extraction.text import CountVectorizer\n",
    "\n",
    "from sklearn.metrics import accuracy_score, classification_report, confusion_matrix\n",
    "nltk.download('punkt_tab')\n",
    "nltk.download('stopwords')"
   ]
  },
  {
   "cell_type": "markdown",
   "metadata": {},
   "source": [
    "## Download Dataset and unzip folder"
   ]
  },
  {
   "cell_type": "code",
   "execution_count": 52,
   "metadata": {},
   "outputs": [],
   "source": [
    "def download_dataset(url, download_path):\n",
    "    \n",
    "    response = requests.get(url)\n",
    "\n",
    "    if response.status_code == 200:\n",
    "        with open(download_path, 'wb') as f:\n",
    "            f.write(response.content)\n",
    "        print(f\"Downloaded the file to {download_path}\")\n",
    "    else:\n",
    "        print(\"Failed to download the file\")\n",
    "\n",
    "    with zipfile.ZipFile(download_path, 'r') as zip_ref:\n",
    "        zip_ref.extractall(\"../data\")\n",
    "        print(\"Unzipped the dataset to '../data' folder\")\n",
    "\n",
    "    extracted_files = os.listdir(\"../data\")\n",
    "    print(\"Extracted files:\", extracted_files)"
   ]
  },
  {
   "cell_type": "code",
   "execution_count": 53,
   "metadata": {},
   "outputs": [
    {
     "name": "stdout",
     "output_type": "stream",
     "text": [
      "Downloaded the file to ../data/smsspamcollection.zip\n",
      "Unzipped the dataset to '../data' folder\n",
      "Extracted files: ['smsspamcollection.zip', 'readme', 'SMSSpamCollection']\n"
     ]
    }
   ],
   "source": [
    "url = \"https://archive.ics.uci.edu/ml/machine-learning-databases/00228/smsspamcollection.zip\"\n",
    "download_path = \"../data/smsspamcollection.zip\"\n",
    "\n",
    "download_dataset(url, download_path)"
   ]
  },
  {
   "cell_type": "markdown",
   "metadata": {},
   "source": [
    "## Load the Dataset"
   ]
  },
  {
   "cell_type": "code",
   "execution_count": 54,
   "metadata": {},
   "outputs": [],
   "source": [
    "url = \"https://archive.ics.uci.edu/ml/machine-learning-databases/00228/smsspamcollection.zip\"\n",
    "df = pd.read_csv('../data/SMSSpamCollection', sep='\\t', header=None, names=['label', 'message'])"
   ]
  },
  {
   "cell_type": "code",
   "execution_count": 55,
   "metadata": {},
   "outputs": [
    {
     "data": {
      "text/html": [
       "<div>\n",
       "<style scoped>\n",
       "    .dataframe tbody tr th:only-of-type {\n",
       "        vertical-align: middle;\n",
       "    }\n",
       "\n",
       "    .dataframe tbody tr th {\n",
       "        vertical-align: top;\n",
       "    }\n",
       "\n",
       "    .dataframe thead th {\n",
       "        text-align: right;\n",
       "    }\n",
       "</style>\n",
       "<table border=\"1\" class=\"dataframe\">\n",
       "  <thead>\n",
       "    <tr style=\"text-align: right;\">\n",
       "      <th></th>\n",
       "      <th>label</th>\n",
       "      <th>message</th>\n",
       "    </tr>\n",
       "  </thead>\n",
       "  <tbody>\n",
       "    <tr>\n",
       "      <th>0</th>\n",
       "      <td>ham</td>\n",
       "      <td>Go until jurong point, crazy.. Available only ...</td>\n",
       "    </tr>\n",
       "    <tr>\n",
       "      <th>1</th>\n",
       "      <td>ham</td>\n",
       "      <td>Ok lar... Joking wif u oni...</td>\n",
       "    </tr>\n",
       "    <tr>\n",
       "      <th>2</th>\n",
       "      <td>spam</td>\n",
       "      <td>Free entry in 2 a wkly comp to win FA Cup fina...</td>\n",
       "    </tr>\n",
       "    <tr>\n",
       "      <th>3</th>\n",
       "      <td>ham</td>\n",
       "      <td>U dun say so early hor... U c already then say...</td>\n",
       "    </tr>\n",
       "    <tr>\n",
       "      <th>4</th>\n",
       "      <td>ham</td>\n",
       "      <td>Nah I don't think he goes to usf, he lives aro...</td>\n",
       "    </tr>\n",
       "  </tbody>\n",
       "</table>\n",
       "</div>"
      ],
      "text/plain": [
       "  label                                            message\n",
       "0   ham  Go until jurong point, crazy.. Available only ...\n",
       "1   ham                      Ok lar... Joking wif u oni...\n",
       "2  spam  Free entry in 2 a wkly comp to win FA Cup fina...\n",
       "3   ham  U dun say so early hor... U c already then say...\n",
       "4   ham  Nah I don't think he goes to usf, he lives aro..."
      ]
     },
     "execution_count": 55,
     "metadata": {},
     "output_type": "execute_result"
    }
   ],
   "source": [
    "df.head()"
   ]
  },
  {
   "cell_type": "code",
   "execution_count": 56,
   "metadata": {},
   "outputs": [
    {
     "name": "stdout",
     "output_type": "stream",
     "text": [
      "<class 'pandas.core.frame.DataFrame'>\n",
      "RangeIndex: 5572 entries, 0 to 5571\n",
      "Data columns (total 2 columns):\n",
      " #   Column   Non-Null Count  Dtype \n",
      "---  ------   --------------  ----- \n",
      " 0   label    5572 non-null   object\n",
      " 1   message  5572 non-null   object\n",
      "dtypes: object(2)\n",
      "memory usage: 87.2+ KB\n"
     ]
    }
   ],
   "source": [
    "df.info()"
   ]
  },
  {
   "cell_type": "markdown",
   "metadata": {},
   "source": [
    "## Data Preprocessing"
   ]
  },
  {
   "cell_type": "code",
   "execution_count": 57,
   "metadata": {},
   "outputs": [],
   "source": [
    "df['label'] = df['label'].map({'ham': 0, 'spam': 1})"
   ]
  },
  {
   "cell_type": "code",
   "execution_count": 58,
   "metadata": {},
   "outputs": [],
   "source": [
    "def clean_text(text):\n",
    "    text = ''.join([char for char in text if char not in string.punctuation])\n",
    "    text = text.lower()\n",
    "    stop_words = set(stopwords.words('english'))\n",
    "    text = ' '.join([word for word in text.split() if word not in stop_words])\n",
    "    return text\n",
    "\n",
    "df['message'] = df['message'].apply(clean_text)"
   ]
  },
  {
   "cell_type": "markdown",
   "metadata": {},
   "source": [
    "## Split dataset to training and test"
   ]
  },
  {
   "cell_type": "code",
   "execution_count": 59,
   "metadata": {},
   "outputs": [],
   "source": [
    "X = df['message']\n",
    "y = df['label']\n",
    "X_train, X_test, y_train, y_test = train_test_split(X, y, test_size=0.2, random_state=42)\n"
   ]
  },
  {
   "cell_type": "markdown",
   "metadata": {},
   "source": [
    "# Calculations\n",
    "### 1. Priors\n",
    "\n",
    "The prior probabilities represent the probability of each class (spam or ham) in the training data.\n",
    "\n",
    "- **P(spam)**: Probability that a message is spam.\n",
    "\n",
    "$$\n",
    "P(\\text{spam}) = \\frac{\\text{Number of spam messages}}{\\text{Total number of messages}}\n",
    "$$\n",
    "\n",
    "- **P(ham)**: Probability that a message is ham.\n",
    "\n",
    "$$\n",
    "P(\\text{ham}) = \\frac{\\text{Number of ham messages}}{\\text{Total number of messages}}\n",
    "$$\n",
    "\n",
    "### 2. Likelihoods\n",
    "\n",
    "The likelihood represents the probability of observing a particular word given a class (spam or ham).\n",
    "\n",
    "- **P(w | spam)**: Probability of word \\( w \\) occurring in a spam message.\n",
    "\n",
    "$$\n",
    "P(w | \\text{spam}) = \\frac{\\text{Number of times } w \\text{ appears in spam messages} + 1}{\\text{Total number of words in spam messages} + |V|}\n",
    "$$\n",
    "\n",
    "- **P(w | ham)**: Probability of word \\( w \\) occurring in a ham message.\n",
    "\n",
    "$$\n",
    "P(w | \\text{ham}) = \\frac{\\text{Number of times } w \\text{ appears in ham messages} + 1}{\\text{Total number of words in ham messages} + |V|}\n",
    "$$\n",
    "\n",
    "### 3. Posteriors\n",
    "\n",
    "The posterior is the probability of a class (spam or ham) given a message. We calculate the posterior for each class using Bayes' Theorem.\n",
    "\n",
    "- **P(spam | message)**: The probability that the message is spam given the words in the message.\n",
    "\n",
    "$$\n",
    "P(\\text{spam} | \\text{message}) \\propto P(\\text{spam}) \\times \\prod_{i=1}^{n} P(w_i | \\text{spam})\n",
    "$$\n",
    "\n",
    "- **P(ham | message)**: The probability that the message is ham given the words in the message.\n",
    "\n",
    "$$\n",
    "P(\\text{ham} | \\text{message}) \\propto P(\\text{ham}) \\times \\prod_{i=1}^{n} P(w_i | \\text{ham})\n",
    "$$\n",
    "\n",
    "### 4. Decision Rule\n",
    "\n",
    "Finally, we classify the message by comparing the posteriors for each class. The class with the higher posterior probability is chosen:\n",
    "\n",
    "$$\n",
    "\\hat{y} = \\begin{cases} \n",
    "\\text{spam} & \\text{if } P(\\text{spam} | \\text{message}) > P(\\text{ham} | \\text{message}) \\\\\n",
    "\\text{ham} & \\text{otherwise}\n",
    "\\end{cases}\n",
    "$$\n"
   ]
  },
  {
   "cell_type": "code",
   "execution_count": 62,
   "metadata": {},
   "outputs": [],
   "source": [
    "class BayesianClassifier:\n",
    "    def __init__(self):\n",
    "        self.p_spam = 0\n",
    "        self.p_ham = 0\n",
    "        self.p_word_given_spam = {}\n",
    "        self.p_word_given_ham = {}\n",
    "        self.vocab = []\n",
    "\n",
    "    def calculate_priors(self, y_train):\n",
    "        \"\"\"\n",
    "        Calculate the prior probabilities P(spam) and P(ham).\n",
    "        P(spam) = (Number of spam messages) / (Total number of messages)\n",
    "        P(ham) = (Number of ham messages) / (Total number of messages)\n",
    "        \"\"\"\n",
    "        spam_count = sum(y_train)\n",
    "        ham_count = len(y_train) - spam_count\n",
    "        total_count = len(y_train)\n",
    "        self.p_spam = spam_count / total_count\n",
    "        self.p_ham = ham_count / total_count\n",
    "\n",
    "    def calculate_likelihoods(self, X_train, y_train, vocab):\n",
    "        \"\"\"\n",
    "        Calculate the likelihoods P(word|spam) and P(word|ham) using Laplace smoothing.\n",
    "        P(word|spam) = (Count of word in spam messages + 1) / (Total number of words in spam + Vocabulary size)\n",
    "        P(word|ham) = (Count of word in ham messages + 1) / (Total number of words in ham + Vocabulary size)\n",
    "        \"\"\"\n",
    "        spam_word_counts = defaultdict(int)\n",
    "        ham_word_counts = defaultdict(int)\n",
    "        spam_total_words = 0\n",
    "        ham_total_words = 0\n",
    "\n",
    "        # Loop through each message and its label\n",
    "        for message, label in zip(X_train, y_train):\n",
    "            words = message.toarray().flatten()  # Convert sparse to dense vector and flatten\n",
    "            for idx, count in enumerate(words):\n",
    "                if count > 0:  # Word is present\n",
    "                    word = vocab[idx]  # Get the word corresponding to this index\n",
    "                    if label == 1:  # Spam\n",
    "                        spam_total_words += count\n",
    "                        spam_word_counts[word] += count\n",
    "                    else:  # Ham\n",
    "                        ham_total_words += count\n",
    "                        ham_word_counts[word] += count\n",
    "\n",
    "        # Apply Laplace smoothing\n",
    "        vocab_size = len(vocab)\n",
    "        self.p_word_given_spam = {word: (spam_word_counts.get(word, 0) + 1) / (spam_total_words + vocab_size)\n",
    "                                  for word in vocab}\n",
    "        self.p_word_given_ham = {word: (ham_word_counts.get(word, 0) + 1) / (ham_total_words + vocab_size)\n",
    "                                 for word in vocab}\n",
    "\n",
    "    def train(self, X_train, y_train, vocab):\n",
    "        \"\"\"\n",
    "        Train the classifier by calculating priors and likelihoods.\n",
    "        Arguments:\n",
    "        - X_train: List of training messages (already vectorized)\n",
    "        - y_train: List of labels (1 for spam, 0 for ham)\n",
    "        - vocab: Set of all unique words in the training set\n",
    "        \"\"\"\n",
    "        self.vocab = vocab\n",
    "        self.calculate_priors(y_train)\n",
    "        self.calculate_likelihoods(X_train, y_train, vocab)\n",
    "\n",
    "    def predict(self, message):\n",
    "        \"\"\"\n",
    "        Predict whether a message is spam or ham based on the likelihoods and priors.\n",
    "        Uses the Naive Bayes formula:\n",
    "        P(spam|message) ∝ P(spam) * P(word1|spam) * P(word2|spam) * ...\n",
    "        P(ham|message) ∝ P(ham) * P(word1|ham) * P(word2|ham) * ...\n",
    "        The class with the higher probability is the predicted label.\n",
    "        \"\"\"\n",
    "        p_spam_given_message = math.log(self.p_spam)\n",
    "        p_ham_given_message = math.log(self.p_ham)\n",
    "\n",
    "        # Convert the sparse vector back to a dense format for token counts\n",
    "        words = message.toarray().flatten()  # Convert sparse to dense vector and flatten\n",
    "        for idx, count in enumerate(words):\n",
    "            if count > 0:  # Word is present\n",
    "                word = self.vocab[idx]  # Get the word corresponding to this index\n",
    "                p_spam_given_message += math.log(self.p_word_given_spam.get(word, 1 / (len(self.vocab) + 1)))\n",
    "                p_ham_given_message += math.log(self.p_word_given_ham.get(word, 1 / (len(self.vocab) + 1)))\n",
    "\n",
    "        return 1 if p_spam_given_message > p_ham_given_message else 0\n",
    "\n",
    "    def evaluate(self, X_test, y_test):\n",
    "        \"\"\"\n",
    "        Evaluate the model on the test set.\n",
    "        Arguments:\n",
    "        - X_test: List of test messages (already vectorized)\n",
    "        - y_test: List of true labels (1 for spam, 0 for ham)\n",
    "        \"\"\"\n",
    "        predicted = [self.predict(message) for message in X_test]\n",
    "        accuracy = accuracy_score(y_test, predicted)\n",
    "        report = classification_report(y_test, predicted)\n",
    "        cm = confusion_matrix(y_test, predicted)\n",
    "\n",
    "        return accuracy, report, cm\n"
   ]
  },
  {
   "cell_type": "code",
   "execution_count": 61,
   "metadata": {},
   "outputs": [
    {
     "name": "stdout",
     "output_type": "stream",
     "text": [
      "Accuracy: 0.9839\n",
      "Classification Report:\n",
      "               precision    recall  f1-score   support\n",
      "\n",
      "           0       0.99      1.00      0.99       966\n",
      "           1       0.97      0.91      0.94       149\n",
      "\n",
      "    accuracy                           0.98      1115\n",
      "   macro avg       0.98      0.95      0.96      1115\n",
      "weighted avg       0.98      0.98      0.98      1115\n",
      "\n"
     ]
    },
    {
     "data": {
      "image/png": "[encoded data removed]",
      "text/plain": [
       "<Figure size 600x500 with 2 Axes>"
      ]
     },
     "metadata": {},
     "output_type": "display_data"
    }
   ],
   "source": [
    "vectorizer = CountVectorizer()\n",
    "X_train_vectorized = vectorizer.fit_transform(X_train)\n",
    "X_test_vectorized = vectorizer.transform(X_test)\n",
    "\n",
    "# Initialize and train the classifier\n",
    "classifier = BayesianClassifier()\n",
    "classifier.train(X_train_vectorized, y_train, vectorizer.get_feature_names_out())\n",
    "\n",
    "# Evaluate the model on the test data\n",
    "accuracy, report, cm = classifier.evaluate(X_test_vectorized, y_test)\n",
    "\n",
    "\n",
    "print(f\"Accuracy: {accuracy:.4f}\")\n",
    "print(\"Classification Report:\\n\", report)\n",
    "\n",
    "# Plot the confusion matrix using seaborn heatmap\n",
    "plt.figure(figsize=(6, 5))\n",
    "sns.heatmap(cm, annot=True, fmt='d', cmap='Blues', xticklabels=['Ham', 'Spam'], yticklabels=['Ham', 'Spam'])\n",
    "plt.title('Confusion Matrix')\n",
    "plt.xlabel('Predicted')\n",
    "plt.ylabel('True')\n",
    "plt.show()"
   ]
  }
 ],
 "metadata": {
  "kernelspec": {
   "display_name": ".venv",
   "language": "python",
   "name": "python3"
  },
  "language_info": {
   "codemirror_mode": {
    "name": "ipython",
    "version": 3
   },
   "file_extension": ".py",
   "mimetype": "text/x-python",
   "name": "python",
   "nbconvert_exporter": "python",
   "pygments_lexer": "ipython3",
   "version": "3.12.3"
  }
 },
 "nbformat": 4,
 "nbformat_minor": 2
}
